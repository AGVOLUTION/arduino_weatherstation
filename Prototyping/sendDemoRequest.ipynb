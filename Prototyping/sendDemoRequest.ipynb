{
 "cells": [
  {
   "cell_type": "code",
   "execution_count": 7,
   "metadata": {},
   "outputs": [],
   "source": [
    "import requests\n",
    "from pprint import pprint"
   ]
  },
  {
   "cell_type": "code",
   "execution_count": 2,
   "metadata": {},
   "outputs": [],
   "source": [
    "headers = {\n",
    "    'Authorization': '83763dbe83'\n",
    "}\n",
    "r = requests.post('https://devices.agvolution.com/gate/sigfox/agvolutionASDF', headers=headers)"
   ]
  },
  {
   "cell_type": "code",
   "execution_count": 18,
   "metadata": {},
   "outputs": [
    {
     "output_type": "stream",
     "name": "stdout",
     "text": "{'Connection': 'keep-alive',\n 'Content-Length': '0',\n 'Content-Type': 'application/json',\n 'Date': 'Tue, 20 Apr 2021 09:13:42 GMT',\n 'Via': '1.1 ba761cfda8bfa6cbda2b6c433d6201f6.cloudfront.net (CloudFront)',\n 'X-Amz-Cf-Id': 'JCsfQF7TJoLm0U3Qu7r-rx8M8uJ7Qj1dx5LFfAvK4dDw0M3-TDhqsQ==',\n 'X-Amz-Cf-Pop': 'VIE50-C2',\n 'X-Amzn-Trace-Id': 'Root=1-607e9b46-0a489c5c77e5a30c5b6d1c56;Sampled=0',\n 'X-Cache': 'Error from cloudfront',\n 'x-amz-apigw-id': 'eE0zDGIjliAFgJQ=',\n 'x-amzn-Remapped-connection': 'close',\n 'x-amzn-Remapped-content-length': '0',\n 'x-amzn-Remapped-date': 'Tue, 20 Apr 2021 09:13:42 GMT',\n 'x-amzn-RequestId': '2fcc5360-a7ca-4127-8c45-07c2349d5714',\n 'x-powered-by': 'Express'}\n<urllib3.response.HTTPResponse object at 0x0000023EC8E00948>\n"
    }
   ],
   "source": [
    "pprint(dict(r.headers))\n",
    "print(r.raw)"
   ]
  }
 ],
 "metadata": {
  "language_info": {
   "codemirror_mode": {
    "name": "ipython",
    "version": 3
   },
   "file_extension": ".py",
   "mimetype": "text/x-python",
   "name": "python",
   "nbconvert_exporter": "python",
   "pygments_lexer": "ipython3",
   "version": "3.7.4-final"
  },
  "orig_nbformat": 2,
  "kernelspec": {
   "name": "python37464bitanaconda3condaa181931a66ef439e9a11a886eb7da2f7",
   "display_name": "Python 3.7.4 64-bit ('Anaconda3': conda)"
  }
 },
 "nbformat": 4,
 "nbformat_minor": 2
}